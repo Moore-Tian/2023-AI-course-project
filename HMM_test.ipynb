{
 "cells": [
  {
   "cell_type": "code",
   "execution_count": 1,
   "metadata": {},
   "outputs": [
    {
     "name": "stdout",
     "output_type": "stream",
     "text": [
      "---------------- Chinese Result ------------------\n"
     ]
    },
    {
     "name": "stderr",
     "output_type": "stream",
     "text": [
      "100%|██████████| 462/462 [00:03<00:00, 116.10it/s]\n"
     ]
    },
    {
     "name": "stdout",
     "output_type": "stream",
     "text": [
      "              precision    recall  f1-score   support\n",
      "\n",
      "      B-NAME     0.9189    1.0000    0.9577       102\n",
      "      M-NAME     0.9146    1.0000    0.9554        75\n",
      "      E-NAME     0.9099    0.9902    0.9484       102\n",
      "      S-NAME     1.0000    0.5000    0.6667         8\n",
      "      B-CONT     0.8421    0.9697    0.9014        33\n",
      "      M-CONT     0.8289    0.9844    0.9000        64\n",
      "      E-CONT     0.8684    1.0000    0.9296        33\n",
      "      S-CONT     0.0000    0.0000    0.0000         0\n",
      "       B-EDU     0.8000    0.9434    0.8658       106\n",
      "       M-EDU     0.7919    0.9887    0.8794       177\n",
      "       E-EDU     0.8387    0.9811    0.9043       106\n",
      "       S-EDU     0.0000    0.0000    0.0000         0\n",
      "     B-TITLE     0.8178    0.8665    0.8414       689\n",
      "     M-TITLE     0.8124    0.9020    0.8549      1479\n",
      "     E-TITLE     0.9203    0.9724    0.9457       689\n",
      "     S-TITLE     0.0000    0.0000    0.0000         0\n",
      "       B-ORG     0.8903    0.9330    0.9111       522\n",
      "       M-ORG     0.9226    0.9210    0.9218      3622\n",
      "       E-ORG     0.7810    0.8199    0.8000       522\n",
      "       S-ORG     0.0000    0.0000    0.0000         0\n",
      "      B-RACE     0.9333    1.0000    0.9655        14\n",
      "      M-RACE     0.0000    0.0000    0.0000         0\n",
      "      E-RACE     0.9333    1.0000    0.9655        14\n",
      "      S-RACE     0.0000    0.0000    0.0000         1\n",
      "       B-PRO     0.4444    0.6667    0.5333        18\n",
      "       M-PRO     0.4038    0.6364    0.4941        33\n",
      "       E-PRO     0.5556    0.8333    0.6667        18\n",
      "       S-PRO     0.0000    0.0000    0.0000         0\n",
      "       B-LOC     0.0000    0.0000    0.0000         2\n",
      "       M-LOC     0.0000    0.0000    0.0000         6\n",
      "       E-LOC     0.0000    0.0000    0.0000         2\n",
      "       S-LOC     0.0000    0.0000    0.0000         0\n",
      "\n",
      "   micro avg     0.8693    0.9147    0.8914      8437\n",
      "   macro avg     0.5353    0.5909    0.5565      8437\n",
      "weighted avg     0.8720    0.9147    0.8919      8437\n",
      "\n",
      "---------------- English Result ------------------\n"
     ]
    },
    {
     "name": "stderr",
     "output_type": "stream",
     "text": [
      "100%|██████████| 3250/3250 [00:04<00:00, 736.85it/s]\n"
     ]
    },
    {
     "name": "stdout",
     "output_type": "stream",
     "text": [
      "              precision    recall  f1-score   support\n",
      "\n",
      "       B-PER     0.8266    0.7220    0.7708      1842\n",
      "       I-PER     0.7881    0.9189    0.8485      1307\n",
      "       B-ORG     0.6183    0.6353    0.6267      1341\n",
      "       I-ORG     0.5423    0.6658    0.5977       751\n",
      "       B-LOC     0.9161    0.7431    0.8206      1837\n",
      "       I-LOC     0.5397    0.6615    0.5944       257\n",
      "      B-MISC     0.9433    0.6670    0.7814       922\n",
      "      I-MISC     0.6554    0.5607    0.6044       346\n",
      "\n",
      "   micro avg     0.7607    0.7238    0.7418      8603\n",
      "   macro avg     0.7287    0.6968    0.7056      8603\n",
      "weighted avg     0.7796    0.7238    0.7448      8603\n",
      "\n"
     ]
    }
   ],
   "source": [
    "from HMM import *\n",
    "\n",
    "print('---------------- Chinese Result ------------------')\n",
    "HMM_check('Chinese')\n",
    "print('---------------- English Result ------------------')\n",
    "HMM_check('English')\n"
   ]
  }
 ],
 "metadata": {
  "kernelspec": {
   "display_name": "base",
   "language": "python",
   "name": "python3"
  },
  "language_info": {
   "codemirror_mode": {
    "name": "ipython",
    "version": 3
   },
   "file_extension": ".py",
   "mimetype": "text/x-python",
   "name": "python",
   "nbconvert_exporter": "python",
   "pygments_lexer": "ipython3",
   "version": "3.11.5"
  }
 },
 "nbformat": 4,
 "nbformat_minor": 2
}
