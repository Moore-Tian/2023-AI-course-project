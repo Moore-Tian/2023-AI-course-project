{
 "cells": [
  {
   "cell_type": "code",
   "execution_count": 1,
   "metadata": {},
   "outputs": [],
   "source": [
    "import os\n",
    "import sklearn_crfsuite\n",
    "from check import *\n",
    "from NER_dataset import *\n",
    "from word2features import *\n",
    "from utils import *\n",
    "import pickle\n",
    "\n",
    "\n",
    "def CRF_check(language):\n",
    "    train_data, valid_data = get_data_set(language)\n",
    "    train_features, train_labels = get_features(train_data)\n",
    "\n",
    "    # 建立并训练CRF模型\n",
    "    model = sklearn_crfsuite.CRF(\n",
    "        algorithm='lbfgs',\n",
    "        c1=0.1,\n",
    "        c2=0.1,\n",
    "        max_iterations=100,\n",
    "        all_possible_transitions=True\n",
    "    )\n",
    "    try:\n",
    "        model.fit(train_features, train_labels)\n",
    "    except AttributeError:\n",
    "        pass\n",
    "\n",
    "    with open(f\"CRF/{language}.pkl\", \"wb\") as f:\n",
    "        pickle.dump(model, f)\n",
    "\n",
    "\n",
    "\n",
    "\n"
   ]
  },
  {
   "cell_type": "code",
   "execution_count": 2,
   "metadata": {},
   "outputs": [
    {
     "name": "stdout",
     "output_type": "stream",
     "text": [
      "---------------- Chinese Result ------------------\n",
      "---------------- English Result ------------------\n"
     ]
    }
   ],
   "source": [
    "print('---------------- Chinese Result ------------------')\n",
    "CRF_check('Chinese')\n",
    "print('---------------- English Result ------------------')\n",
    "CRF_check('English')"
   ]
  }
 ],
 "metadata": {
  "kernelspec": {
   "display_name": "base",
   "language": "python",
   "name": "python3"
  },
  "language_info": {
   "codemirror_mode": {
    "name": "ipython",
    "version": 3
   },
   "file_extension": ".py",
   "mimetype": "text/x-python",
   "name": "python",
   "nbconvert_exporter": "python",
   "pygments_lexer": "ipython3",
   "version": "3.11.5"
  }
 },
 "nbformat": 4,
 "nbformat_minor": 2
}
